{
 "cells": [
  {
   "cell_type": "code",
   "execution_count": 1,
   "id": "4ec0e309-3162-4ef9-93d0-77c14d2b933d",
   "metadata": {
    "tags": []
   },
   "outputs": [],
   "source": [
    "#libraries\n",
    "import os \n",
    "import sys"
   ]
  },
  {
   "cell_type": "code",
   "execution_count": 2,
   "id": "04edba75-10fe-40a2-abc9-d0931c0ea223",
   "metadata": {},
   "outputs": [
    {
     "name": "stdout",
     "output_type": "stream",
     "text": [
      "/bin/bash: pdb4amber: command not found\n"
     ]
    }
   ],
   "source": [
    "#first load modules then append\n",
    "!module load intel/2017.4.056 amber/16\n",
    "!export PATH=$HPC_AMBER_DIR/AmberTools/bin:$PATH\n",
    "\n",
    "#next prepare your pdbfile, should be in your \n",
    "#directory to make life easy\n",
    "!pdb4amber -i 2h24.pdb -o pIL10.pdb --reduce --dry "
   ]
  },
  {
   "cell_type": "code",
   "execution_count": null,
   "id": "3fd82730-4b33-460a-9c88-483988ae0d65",
   "metadata": {},
   "outputs": [],
   "source": [
    "#Next we'll use leap to prepare teh topology file\n",
    "%%file leap.in\n",
    "source leaprc.protein.ff14SB\n",
    "source leaprc.water.tip3p\n",
    "source leaprc.gaff2\n",
    "x = loadPdb new.pdb\n",
    "saveAmberParm x my_new_pdb.parm7 my_new_pdb.rst7\n",
    "quit"
   ]
  },
  {
   "cell_type": "code",
   "execution_count": null,
   "id": "58895d1e-0d48-41ad-a301-5968eb67791a",
   "metadata": {},
   "outputs": [],
   "source": [
    "#activate tleap\n",
    "!tleap -f leap.in > leap.log"
   ]
  },
  {
   "cell_type": "code",
   "execution_count": null,
   "id": "a9892cd2-559e-4373-8f23-c1a7242330ce",
   "metadata": {},
   "outputs": [],
   "source": [
    "#TO DO AMBER, YOU NEED TO DO A SERIES OF SIMULATIONS TO GET THE PRODUCTION VERSION OF YOUR STRUCTURE THEN RUN FINAL SIMULATION\n",
    "\n",
    "#STEP 1 MINIMIZATION\n",
    "%%file min.in\n",
    "  simple generalized Born minimization script\n",
    " &cntrl\n",
    "   imin=1, ntb=0, maxcyc=100, ntpr=10, cut=1000., igb=2, \n",
    " /"
   ]
  },
  {
   "cell_type": "code",
   "execution_count": null,
   "id": "da294eee-468e-4801-aee7-a01b8005316d",
   "metadata": {},
   "outputs": [],
   "source": [
    "#MINIMIZE\n",
    "sander -O -i min.in -p my_new_pdb.parm7 \\\n",
    "       -c my_new_pdb.rst7 \\\n",
    "       -o min1.out \\\n",
    "       -r min1.rst7"
   ]
  },
  {
   "cell_type": "code",
   "execution_count": null,
   "id": "2aecfb32-921b-4c8b-b630-33a0c0d448e3",
   "metadata": {},
   "outputs": [],
   "source": [
    "#STEP 2 PRODUCTION RUN \n",
    "%%file md.in\n",
    "Implicit solvent molecular dynamics\n",
    " &cntrl\n",
    "   imin=0, irest=1, ntx=5,\n",
    "   ntpr=1000, ntwx=1000, nstlim=500000,\n",
    "   dt=0.002, ntt=3, tempi=300,\n",
    "   temp0=300, gamma_ln=1.0, ig=-1,\n",
    "   ntp=0, ntc=2, ntf=2, cut=1000,\n",
    "   ntb=0, igb=2, ioutfm=1,\n",
    " /"
   ]
  },
  {
   "cell_type": "code",
   "execution_count": null,
   "id": "149d6ab7-53aa-47f0-89d6-43e8866cd7e4",
   "metadata": {},
   "outputs": [],
   "source": [
    "#MINIMIZE BUT ITS VERY IMPORTANT TO DO IT ON THE STRUCTURE YOU'VE MINIMIZED, SO THE SANDER BIT LOOKS LIKE THIS CAUSE YOU'll DO TWO SANDER RUNS:\n",
    "sander -O -i md.in -p test.parm7 \\ \n",
    "       -c test.rst7 -o md1.mdout \\ \n",
    "       -x md1.nc -r md1.rst7 \n"
   ]
  },
  {
   "cell_type": "code",
   "execution_count": 16,
   "id": "62c81814-4a3e-45e0-adb1-7f3c6c75b9fb",
   "metadata": {
    "tags": []
   },
   "outputs": [
    {
     "data": {
      "application/vnd.jupyter.widget-view+json": {
       "model_id": "52e79306e4234e9a8df834d4dbc05151",
       "version_major": 2,
       "version_minor": 0
      },
      "text/plain": [
       "NGLWidget()"
      ]
     },
     "metadata": {},
     "output_type": "display_data"
    }
   ],
   "source": [
    "# to chimera hooray. "
   ]
  }
 ],
 "metadata": {
  "kernelspec": {
   "display_name": "Amber",
   "language": "python",
   "name": "amber"
  },
  "language_info": {
   "codemirror_mode": {
    "name": "ipython",
    "version": 3
   },
   "file_extension": ".py",
   "mimetype": "text/x-python",
   "name": "python",
   "nbconvert_exporter": "python",
   "pygments_lexer": "ipython3",
   "version": "3.10.12"
  }
 },
 "nbformat": 4,
 "nbformat_minor": 5
}
